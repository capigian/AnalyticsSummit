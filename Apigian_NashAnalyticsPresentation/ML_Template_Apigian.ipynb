{
 "cells": [
  {
   "cell_type": "markdown",
   "metadata": {},
   "source": [
    "# Supervised Learning Template"
   ]
  },
  {
   "cell_type": "markdown",
   "metadata": {},
   "source": [
    "![MTSU Data Science Institute](images/MTDataScienceInstituteHorizontal.jpg)"
   ]
  },
  {
   "cell_type": "markdown",
   "metadata": {},
   "source": [
    "### Summary of Notebook\n",
    "### ---------------------------\n",
    "#### Created by Charlie H. Apigian, PhD.  - Interim Director of the Data Science Institute at MTSU\n",
    "#### This template gives you a scope and baseline for importing, cleansing, and transforming the data as well as developing optimal models to make decisions.\n",
    "<br>\n",
    "#### Contents of Template and ML Process\n",
    "- Frame the Business Problem\n",
    "- Import Libraries\n",
    "- Import Data\n",
    "- Explore the Data\n",
    "- Cleanse the Data\n",
    "- Transform the Data\n",
    "- Split the Data\n",
    "- Select and Run the Model\n",
    "- Fine Tune the Model\n",
    "\n",
    "## Special Notes:\n",
    "- All code is commented out using a #\n",
    "- Any comments are on the same line as the code and start with ##\n",
    "- All files will be in a root folder that has an images and data folder\n",
    "- all files will be named data as examples and the main dataframe will be df_data"
   ]
  },
  {
   "attachments": {},
   "cell_type": "markdown",
   "metadata": {},
   "source": [
    "# --------------------------------------------------------------------------------\n",
    "# XXXXXXXXXXXXX  What is the Business Problem XXXXXXXXXXXXX\n",
    "# --------------------------------------------------------------------------------\n",
    "- What is the expectation of analyzing the data?\n",
    "- Is there a question to be answered?\n",
    "- Is it completely exploratory?  (a lot of data and no questions)\n",
    "- Is it a machine learning problem?\n",
    "- A visualization or report may be all that is needed."
   ]
  },
  {
   "cell_type": "markdown",
   "metadata": {},
   "source": [
    "# --------------------------------------------------------------------------------\n",
    "# XXXXXXXXXXXXXXXXXX  Import Libraries XXXXXXXXXXXXXXXXXX\n",
    "# --------------------------------------------------------------------------------"
   ]
  },
  {
   "cell_type": "code",
   "execution_count": 3,
   "metadata": {},
   "outputs": [],
   "source": [
    "#import numpy as np\n",
    "#import pandas as pd\n",
    "#import matplotlib.pyplot as plt\n",
    "#import seaborn as sns\n",
    "#%matplotlib inline  ##enables plots to automatically show without having to state plt.show()\n",
    "\n",
    "#sns.set_style('whitegrid')  ##sets a style for how your graphs will look"
   ]
  },
  {
   "cell_type": "markdown",
   "metadata": {},
   "source": [
    "### Seaborn styles\n",
    "https://python-graph-gallery.com/104-seaborn-themes/"
   ]
  },
  {
   "cell_type": "markdown",
   "metadata": {},
   "source": [
    "# --------------------------------------------------------------------------------\n",
    "# XXXXXXXXXXXXXXXXXXX  Import Data XXXXXXXXXXXXXXXXXXX\n",
    "# --------------------------------------------------------------------------------"
   ]
  },
  {
   "cell_type": "markdown",
   "metadata": {},
   "source": [
    "## Import the data and create dataframes and arrays that can then be cleansed, transformed, and split."
   ]
  },
  {
   "cell_type": "markdown",
   "metadata": {},
   "source": [
    "### Import data from URL"
   ]
  },
  {
   "cell_type": "code",
   "execution_count": null,
   "metadata": {
    "scrolled": true
   },
   "outputs": [],
   "source": [
    "#import requests\n",
    "\n",
    "#url_data=\"http://someurl.org/data.csv\"\n",
    "\n",
    "#df_data=pd.read_csv(url_data, index_col = 0, header = 0)"
   ]
  },
  {
   "cell_type": "markdown",
   "metadata": {},
   "source": [
    "### Import csv file"
   ]
  },
  {
   "cell_type": "code",
   "execution_count": null,
   "metadata": {},
   "outputs": [],
   "source": [
    "#df_data = pd.read_csv('data/data.csv', index_col = 0, header = 0)\n",
    "##index_col = None will make the first column a regular column of data, instead of the index."
   ]
  },
  {
   "cell_type": "markdown",
   "metadata": {},
   "source": [
    "### Import Excel file"
   ]
  },
  {
   "cell_type": "code",
   "execution_count": 1,
   "metadata": {},
   "outputs": [],
   "source": [
    "#df_data =  pd.ExcelFile('data/data.xlsx') \n",
    "#print(df_data.sheet_names) ##this allows you to see the names of the sheet from within the Excel file\n",
    "#df1 = data.parse('Sheet2') ##creates a dataframe from Sheet2\n",
    "#df2 = data.parse(0) ##creates a dataframe from the first sheet, regardless of name"
   ]
  },
  {
   "cell_type": "markdown",
   "metadata": {},
   "source": [
    "## Importing SQL Files\n",
    "#### Use SQLAlchemy \n",
    "\n",
    "SQLAlchemy is the Python SQL toolkit and Object Relational Mapper that gives application developers the full power and flexibility of SQL.\n",
    "\n",
    "It provides a full suite of well known enterprise-level persistence patterns, designed for efficient and high-performing database access, adapted into a simple and Pythonic domain language.\n",
    "\n",
    "**To import a SQL file:**\n",
    "- create an engine\n",
    "- create a connection\n",
    "- execute SQL statement to retrieve data\n",
    "    - create a DataFrame to store the data\n",
    "    - pull in the keys to use as column names\n",
    "- close connection\n",
    "\n",
    "https://www.sqlalchemy.org/library.html#tutorials"
   ]
  },
  {
   "cell_type": "code",
   "execution_count": null,
   "metadata": {},
   "outputs": [],
   "source": [
    "#engine = create_engine('sqlite:///data/data.sqlite')"
   ]
  },
  {
   "cell_type": "code",
   "execution_count": null,
   "metadata": {},
   "outputs": [],
   "source": [
    "#con = engine.connect()"
   ]
  },
  {
   "cell_type": "code",
   "execution_count": 2,
   "metadata": {},
   "outputs": [],
   "source": [
    "#rs = con.execute(\"SELECT * FROM Table1\") ##selects all values from Table1\n",
    "#df_data = pd.DataFrame(rs.fetchall()) ##fetches all data from Table1 and creates a dataframe"
   ]
  },
  {
   "cell_type": "code",
   "execution_count": null,
   "metadata": {},
   "outputs": [],
   "source": [
    "#df_data.columns = rs.keys()  ##adds column names to df_data"
   ]
  },
  {
   "cell_type": "code",
   "execution_count": null,
   "metadata": {},
   "outputs": [],
   "source": [
    "#con.close() ##closes database connection"
   ]
  },
  {
   "cell_type": "code",
   "execution_count": null,
   "metadata": {},
   "outputs": [],
   "source": [
    "#df_data.head()"
   ]
  },
  {
   "cell_type": "markdown",
   "metadata": {},
   "source": [
    "# --------------------------------------------------------------------------------\n",
    "# XXXXXXXXXXXXXXXXXX  Explore the Data XXXXXXXXXXXXXXXXXX\n",
    "# --------------------------------------------------------------------------------"
   ]
  },
  {
   "cell_type": "markdown",
   "metadata": {},
   "source": [
    "### Why explore before cleanse?  Exploring and cleansing may be conducted simultaneously, but you cannot cleanse without looking at the data first\n",
    "\n",
    "https://seaborn.pydata.org/examples/index.html"
   ]
  },
  {
   "cell_type": "markdown",
   "metadata": {},
   "source": [
    "## Describe the data\n",
    "## XXXXXXXXXXXXX\n",
    "### Shows a list of summary statistics - what to look for?\n",
    "- Min and max for outliers\n",
    "- Count to see how many columns have NaN values\n",
    "![PandasSummaryStatistics.png](images/PandasSummaryStatistics.png)\n",
    "https://pandas.pydata.org/pandas-docs/stable/basics.html"
   ]
  },
  {
   "cell_type": "code",
   "execution_count": null,
   "metadata": {},
   "outputs": [],
   "source": [
    "#df_data.describe()"
   ]
  },
  {
   "cell_type": "code",
   "execution_count": null,
   "metadata": {},
   "outputs": [],
   "source": [
    "#df_data['feature1'].median()"
   ]
  },
  {
   "cell_type": "code",
   "execution_count": null,
   "metadata": {},
   "outputs": [],
   "source": [
    "#df_data['feature1'].mean()"
   ]
  },
  {
   "cell_type": "code",
   "execution_count": null,
   "metadata": {},
   "outputs": [],
   "source": [
    "#df_data['feature1'].kurt() ##kurtosis - how skewed is your data"
   ]
  },
  {
   "cell_type": "code",
   "execution_count": null,
   "metadata": {},
   "outputs": [],
   "source": [
    "#df_data.corr() ##correlation matrix"
   ]
  },
  {
   "cell_type": "code",
   "execution_count": null,
   "metadata": {},
   "outputs": [],
   "source": [
    "#df_data[['feature1', 'feature2', 'feature3', 'feature4']].corr()  ##allows you to create a correlation matrix from a subset of df_data"
   ]
  },
  {
   "cell_type": "code",
   "execution_count": null,
   "metadata": {},
   "outputs": [],
   "source": [
    "#df_data.categoricalfeature.value_counts() ##counts the number of records within each category for a given feature"
   ]
  },
  {
   "cell_type": "code",
   "execution_count": null,
   "metadata": {},
   "outputs": [],
   "source": [
    "#df_loan.info()"
   ]
  },
  {
   "cell_type": "markdown",
   "metadata": {},
   "source": [
    "## Explore the data through visualizations\n",
    "### For more information on the types of graphs and visualizations that you can produce, please visit MatPlotLib and Seaborn\n",
    "\n",
    "#### MatPlotLib\n",
    "https://matplotlib.org/\n",
    "#### Seaborn\n",
    "https://seaborn.pydata.org/"
   ]
  },
  {
   "cell_type": "markdown",
   "metadata": {},
   "source": [
    "# --------------------------------------------------------------------------------\n",
    "# XXXXXXXXXXXXXXXXXX  Cleanse the  Data XXXXXXXXXXXXXXXXXX\n",
    "# --------------------------------------------------------------------------------"
   ]
  },
  {
   "cell_type": "code",
   "execution_count": null,
   "metadata": {},
   "outputs": [],
   "source": [
    "#df_data.info()"
   ]
  },
  {
   "cell_type": "markdown",
   "metadata": {},
   "source": [
    "## Missing Data\n",
    "\n",
    "\n",
    "#### What can you do with missing data?  (NaN)\n",
    "- **Leave as-is**\n",
    "- **Drop them**\n",
    "    - df_dropped = df_nan.dropna() \n",
    "- **Fill missing value**\n",
    "    - Fill with a value \n",
    "        - df_nan['sex'] = df_nan['sex'].fillna('missing')\n",
    "        - df_nan[['total_bill', 'size']] = tips_nan[['total_bill','size']].fillna(0)\n",
    "    - Fill with a summary statistic\n",
    "        - mean_value = df_nan['tip'].mean()\n",
    "        - df_nan['tip'] = df_nan['tip'].fillna(mean_value)\n",
    "    - Fill in with Forward or backward\n",
    "        - df.fillna(method='ffill')\n",
    "        - df.fillna(method='bfill')\n",
    "        \n",
    "\n",
    "\n",
    "http://pandas.pydata.org/pandas-docs/version/0.17.1/generated/pandas.DataFrame.fillna.html"
   ]
  },
  {
   "cell_type": "markdown",
   "metadata": {},
   "source": [
    "## Fill with a specific value\n",
    "\n",
    "- Change all NaN values to 0."
   ]
  },
  {
   "cell_type": "code",
   "execution_count": 4,
   "metadata": {},
   "outputs": [],
   "source": [
    "#df_data['feature1'] = df_data['feature1'].fillna(0)  ##fills in null vales (NaN) with ZERO (0)"
   ]
  },
  {
   "cell_type": "markdown",
   "metadata": {},
   "source": [
    "## Fill in the mean"
   ]
  },
  {
   "cell_type": "code",
   "execution_count": null,
   "metadata": {},
   "outputs": [],
   "source": [
    "#mean_value = df_data['feature1'].mean()\n",
    "#df_data['feature1'] = df_data['feature1'].fillna(mean_value)"
   ]
  },
  {
   "cell_type": "markdown",
   "metadata": {},
   "source": [
    "## Drop row(s) based on criteria"
   ]
  },
  {
   "cell_type": "code",
   "execution_count": 5,
   "metadata": {},
   "outputs": [],
   "source": [
    "#df_data.drop(df_data[df_data.feature1 > 1000000].index, inplace=True) ##drops all rows that have a feature 1 above 1000000"
   ]
  },
  {
   "cell_type": "markdown",
   "metadata": {
    "collapsed": true
   },
   "source": [
    "# --------------------------------------------------------------------------------\n",
    "# XXXXXXXXXXXXXXXXX  Transform the Data XXXXXXXXXXXXXXXXX\n",
    "# --------------------------------------------------------------------------------"
   ]
  },
  {
   "cell_type": "markdown",
   "metadata": {},
   "source": [
    "## Re-coding of categorical data\n",
    "\n",
    "<br>\n",
    "### 3 ways to recode categorical data\n",
    "- **label encoder** - changes categories to integers based on alphabetical order\n",
    "- **hot one encoder** - changes one column of categorical data into several binary (dummy) columns\n",
    "- **use a custom function** for changing categories to integers"
   ]
  },
  {
   "cell_type": "markdown",
   "metadata": {},
   "source": [
    "## Re-Label using Label Encoding"
   ]
  },
  {
   "cell_type": "code",
   "execution_count": null,
   "metadata": {},
   "outputs": [],
   "source": [
    "#from sklearn.preprocessing import LabelEncoder"
   ]
  },
  {
   "cell_type": "code",
   "execution_count": null,
   "metadata": {},
   "outputs": [],
   "source": [
    "#lc = LabelEncoder()"
   ]
  },
  {
   "cell_type": "code",
   "execution_count": null,
   "metadata": {},
   "outputs": [],
   "source": [
    "#df_data['categoricalfeature'] = lc.fit_transform(df_data['categoricalfeature']) ##changes the categorical label to an integer"
   ]
  },
  {
   "cell_type": "markdown",
   "metadata": {},
   "source": [
    "## Dummy Variables - Hot one encoding"
   ]
  },
  {
   "cell_type": "code",
   "execution_count": null,
   "metadata": {},
   "outputs": [],
   "source": [
    "#dummies_variable = pd.get_dummies(df_data['categoricalvariable2'], drop_first = False)"
   ]
  },
  {
   "cell_type": "code",
   "execution_count": null,
   "metadata": {},
   "outputs": [],
   "source": [
    "#dummies_variable.info()"
   ]
  },
  {
   "cell_type": "code",
   "execution_count": null,
   "metadata": {},
   "outputs": [],
   "source": [
    "#df_data = pd.concat([df_data, dummies_variable], axis = 1) ##adds dummies_variable to df_data as a new column\n",
    "#df_data.info()"
   ]
  },
  {
   "cell_type": "code",
   "execution_count": null,
   "metadata": {},
   "outputs": [],
   "source": [
    "#df_data = df_data.drop([\"categoricalvariable2\"], axis = 1) ##drops categoricalvariable2 from the df_data"
   ]
  },
  {
   "cell_type": "markdown",
   "metadata": {},
   "source": [
    "## Create own numerical category"
   ]
  },
  {
   "cell_type": "code",
   "execution_count": null,
   "metadata": {},
   "outputs": [],
   "source": [
    "#df_data.categoricalvariable3.value_counts() ##allows you to see the count for each label within categoricalvariable3"
   ]
  },
  {
   "cell_type": "code",
   "execution_count": null,
   "metadata": {},
   "outputs": [],
   "source": [
    "#def data(d):\n",
    "#    if d['categoricalvariable3'] == 'Agree':\n",
    "#        return 1\n",
    "#    elif d['categoricalvariable3'] == 'Strongly Agree':\n",
    "#        return 1\n",
    "#    else: ##all of labels within categoricalvariable3 will be a 0\n",
    "#        return 0\n",
    "#df_data['categoricalvariable3'] = df_data.apply(data, axis = 1)\n",
    "#df_data.head()\n",
    "\n",
    "##remember indenting matters in Python"
   ]
  },
  {
   "cell_type": "markdown",
   "metadata": {},
   "source": [
    "## Create your target dataset"
   ]
  },
  {
   "cell_type": "code",
   "execution_count": null,
   "metadata": {},
   "outputs": [],
   "source": [
    "#y = df_data['targetvariable']"
   ]
  },
  {
   "cell_type": "markdown",
   "metadata": {},
   "source": [
    "## Save a copy of the data as a csv file\n",
    "### Why at this point?\n",
    "- includes target and feature variables"
   ]
  },
  {
   "cell_type": "code",
   "execution_count": null,
   "metadata": {},
   "outputs": [],
   "source": [
    "#df_data.to_csv('Data_Cleansed.csv')"
   ]
  },
  {
   "cell_type": "markdown",
   "metadata": {},
   "source": [
    "### Create you Feature Dataset"
   ]
  },
  {
   "cell_type": "code",
   "execution_count": null,
   "metadata": {},
   "outputs": [],
   "source": [
    "#X = df_data.drop('targetvariable', axis = 1)\n",
    "#X.info()"
   ]
  },
  {
   "cell_type": "code",
   "execution_count": null,
   "metadata": {},
   "outputs": [],
   "source": [
    "#X.head()"
   ]
  },
  {
   "cell_type": "markdown",
   "metadata": {},
   "source": [
    "# YAY!YAY!YAY!YAY!YAY!YAY!YAY!YAY!YAY!YAY!YAY!YAY!YAY!YAY!YAY!YAY!YAY!\n",
    "\n",
    "# You have create your X and y datasets.  You are ready to model and analyze.\n",
    " \n",
    "# YAY!YAY!YAY!YAY!YAY!YAY!YAY!YAY!YAY!YAY!YAY!YAY!YAY!YAY!YAY!YAY!YAY!"
   ]
  },
  {
   "cell_type": "code",
   "execution_count": null,
   "metadata": {},
   "outputs": [],
   "source": []
  },
  {
   "cell_type": "markdown",
   "metadata": {},
   "source": [
    "# --------------------------------------------------------------------------------\n",
    "# XXXXXXXXXXXXXXXXXXX  Split the Data XXXXXXXXXXXXXXXXXXX\n",
    "# --------------------------------------------------------------------------------"
   ]
  },
  {
   "cell_type": "code",
   "execution_count": null,
   "metadata": {},
   "outputs": [],
   "source": [
    "#from sklearn.model_selection import train_test_split"
   ]
  },
  {
   "cell_type": "code",
   "execution_count": null,
   "metadata": {},
   "outputs": [],
   "source": [
    "#X_train, X_test, y_train, y_test = train_test_split(X, y, test_size = 0.3, random_state = 42)"
   ]
  },
  {
   "cell_type": "code",
   "execution_count": null,
   "metadata": {},
   "outputs": [],
   "source": [
    "#y_train"
   ]
  },
  {
   "cell_type": "code",
   "execution_count": null,
   "metadata": {},
   "outputs": [],
   "source": [
    "#y_train.values.reshape(-1,1)"
   ]
  },
  {
   "cell_type": "markdown",
   "metadata": {},
   "source": [
    "## Feature Scaling\n",
    "- StandardScaler\n",
    "    - The StandardScaler assumes your data is normally distributed within each feature and will scale them such that the distribution is now centred around 0, with a standard deviation of 1.\n",
    "    ![alt text](images/StandardScalar.png \"Standard\")\n",
    "- MinMaxScaler\n",
    "    - The MinMaxScaler is the probably the most famous scaling algorithm, and follows the following formula for each feature:\n",
    "    ![alt text](images/MinMaxScalar.png \"MinMax\")\n",
    "    \n",
    "\n",
    "From http://benalexkeen.com/feature-scaling-with-scikit-learn/"
   ]
  },
  {
   "cell_type": "markdown",
   "metadata": {},
   "source": [
    "## To scale or not to scale?? Why after the split?\n",
    "### If you standardize the data, you should split first, since the variability will be different once they are split"
   ]
  },
  {
   "cell_type": "code",
   "execution_count": null,
   "metadata": {},
   "outputs": [],
   "source": [
    "#from sklearn.preprocessing import StandardScaler"
   ]
  },
  {
   "cell_type": "code",
   "execution_count": null,
   "metadata": {
    "scrolled": true
   },
   "outputs": [],
   "source": [
    "#scaler = StandardScaler()\n",
    "\n",
    "#X_train_sc = scaler.fit_transform(X_train)\n",
    "#X_train_sc = pd.DataFrame(X_train_sc, columns=X_train.columns)\n",
    "\n",
    "\n",
    "#X_test_sc = scaler.fit_transform(X_test)\n",
    "#X_test_sc = pd.DataFrame(X_test_sc, columns=X_test.columns)"
   ]
  },
  {
   "cell_type": "markdown",
   "metadata": {},
   "source": [
    "# --------------------------------------------------------------------------------\n",
    "# XXXXXXXXXXXXXXX  Select and Run the Model XXXXXXXXXXXXXXX\n",
    "# --------------------------------------------------------------------------------"
   ]
  },
  {
   "attachments": {},
   "cell_type": "markdown",
   "metadata": {},
   "source": [
    "![SupervisedLearning.png](images/SupervisedLearning.png)"
   ]
  },
  {
   "cell_type": "markdown",
   "metadata": {
    "collapsed": true
   },
   "source": [
    "# XXXXXXXXXXXXXXXXXXXXXXXXXXXXXXXXXXXXXXXXXXXXXXXXXXXXX\n",
    "# Classification\n"
   ]
  },
  {
   "attachments": {
    "LogisticRegression-pic.png": {
     "image/png": "[encoded data removed]"
    }
   },
   "cell_type": "markdown",
   "metadata": {},
   "source": [
    "### Logistic Regression\n",
    "![LogisticRegression-pic.png](attachment:LogisticRegression-pic.png)\n",
    "using non-scaled data"
   ]
  },
  {
   "cell_type": "code",
   "execution_count": null,
   "metadata": {},
   "outputs": [],
   "source": [
    "#names=X_train.columns.values ##create a list of column names - to be used later"
   ]
  },
  {
   "cell_type": "code",
   "execution_count": null,
   "metadata": {},
   "outputs": [],
   "source": [
    "#from sklearn.linear_model import LogisticRegression\n",
    "#from sklearn.metrics import confusion_matrix, classification_report"
   ]
  },
  {
   "cell_type": "code",
   "execution_count": null,
   "metadata": {},
   "outputs": [],
   "source": [
    "##without weights\n",
    "#logr = LogisticRegression()\n",
    "#logr.fit(X_train, y_train)\n",
    "#score = logr.score(X_test, y_test)\n",
    "#print(score)\n",
    "#print(\"\")\n",
    "#log_pred = logr.predict(X_test)\n",
    "#print(confusion_matrix(y_test, log_pred))\n",
    "#print(\"\")\n",
    "#print(classification_report(y_test, log_pred))"
   ]
  },
  {
   "cell_type": "markdown",
   "metadata": {},
   "source": [
    "# --------------------------------------------------------------------------------\n",
    "# XXXXXXXXXXXXXXXXX  Fine Tune the Model XXXXXXXXXXXXXXXXX\n",
    "# --------------------------------------------------------------------------------"
   ]
  },
  {
   "cell_type": "markdown",
   "metadata": {},
   "source": [
    "### Logistic Regression w/ Scaler and weights"
   ]
  },
  {
   "cell_type": "code",
   "execution_count": null,
   "metadata": {},
   "outputs": [],
   "source": [
    "#logrsc = LogisticRegression(class_weight = {0:1, 1:3})\n",
    "#logrsc.fit(X_train_sc, y_train)\n",
    "#score = logrsc.score(X_test_sc, y_test)\n",
    "#score"
   ]
  },
  {
   "cell_type": "code",
   "execution_count": null,
   "metadata": {},
   "outputs": [],
   "source": [
    "#scaled_pred = logrsc.predict(X_test_sc)"
   ]
  },
  {
   "cell_type": "code",
   "execution_count": null,
   "metadata": {
    "scrolled": true
   },
   "outputs": [],
   "source": [
    "#print(classification_report(y_test, scaled_pred))"
   ]
  },
  {
   "cell_type": "code",
   "execution_count": null,
   "metadata": {
    "scrolled": true
   },
   "outputs": [],
   "source": [
    "#print(confusion_matrix(y_test, scaled_pred))"
   ]
  },
  {
   "cell_type": "markdown",
   "metadata": {},
   "source": [
    "### Decision Tree\n",
    "![Decision-Tree-Algorithms.png](images/Decision-Tree-Algorithms.png)"
   ]
  },
  {
   "cell_type": "code",
   "execution_count": null,
   "metadata": {},
   "outputs": [],
   "source": [
    "#from sklearn.feature_extraction.text import CountVectorizer\n",
    "#from sklearn.tree import DecisionTreeClassifier"
   ]
  },
  {
   "cell_type": "code",
   "execution_count": null,
   "metadata": {},
   "outputs": [],
   "source": [
    "#classifier=DecisionTreeClassifier()\n",
    "#classifier=classifier.fit(X_train,y_train)"
   ]
  },
  {
   "cell_type": "code",
   "execution_count": null,
   "metadata": {},
   "outputs": [],
   "source": [
    "#df_pred = classifier.predict(X_test)\n",
    "#print(\"Confusion Matrix\")\n",
    "#print(confusion_matrix(y_test, df_loanpred))\n",
    "#print(\"\")\n",
    "#print(\"classification Report\")\n",
    "#print(classification_report(y_test, df_loanpred))"
   ]
  },
  {
   "cell_type": "code",
   "execution_count": null,
   "metadata": {},
   "outputs": [],
   "source": [
    "##Generating decision tree in a file(image)\n",
    "#from sklearn import tree\n",
    "#from io import StringIO\n",
    "#from IPython.display import Image, display"
   ]
  },
  {
   "cell_type": "code",
   "execution_count": null,
   "metadata": {},
   "outputs": [],
   "source": [
    "#out = StringIO()\n",
    "#tree.export_graphviz(classifier, out_file=out, filled=True,rounded=True)\n",
    "#from sklearn.tree import export_graphviz\n",
    "#import pydot "
   ]
  },
  {
   "cell_type": "code",
   "execution_count": null,
   "metadata": {},
   "outputs": [],
   "source": [
    "#from sklearn.tree import export_graphviz\n",
    "#import pydot "
   ]
  },
  {
   "cell_type": "code",
   "execution_count": null,
   "metadata": {},
   "outputs": [],
   "source": [
    "#dot_data = StringIO()  \n",
    "#export_graphviz(classifier, out_file=dot_data,filled=True,rounded=True)\n",
    "\n",
    "#graph = pydot.graph_from_dot_data(dot_data.getvalue())  \n",
    "#Image(graph[0].create_png())  "
   ]
  },
  {
   "cell_type": "code",
   "execution_count": null,
   "metadata": {},
   "outputs": [],
   "source": [
    "##Using Decision Tree Classifier\n",
    "#clf2=DecisionTreeClassifier(max_depth=5, max_leaf_nodes=10)\n",
    "#clf2=clf2.fit(X_train,y_train)\n",
    "#clf2.score(X_test, y_test)"
   ]
  },
  {
   "cell_type": "code",
   "execution_count": null,
   "metadata": {},
   "outputs": [],
   "source": [
    "#dot_data = StringIO()  \n",
    "#export_graphviz(clf2, out_file=dot_data, feature_names=loan_names, filled=True,rounded=True)\n",
    "\n",
    "#graph = pydot.graph_from_dot_data(dot_data.getvalue())  \n",
    "#Image(graph[0].create_png()) "
   ]
  },
  {
   "cell_type": "code",
   "execution_count": null,
   "metadata": {},
   "outputs": [],
   "source": [
    "#depth = range(1,12)  ##finds optimal max_depth to reduce complexity \n",
    "#scores = []\n",
    "\n",
    "#for d in depth:\n",
    "#    classifier=DecisionTreeClassifier(max_depth = d)\n",
    "#    classifier=classifier.fit(X_train,y_train)\n",
    "#    scores.append(classifier.score(X_test, y_test))\n",
    "#    print(\"iteration {} done\".format(d))\n",
    "\n",
    "\n",
    "#plt.plot(depth, scores, '-o')\n",
    "#plt.xlabel('depth, d')\n",
    "#plt.ylabel('scores')\n",
    "#plt.xticks(depth)\n",
    "#plt.show()"
   ]
  },
  {
   "cell_type": "code",
   "execution_count": null,
   "metadata": {},
   "outputs": [],
   "source": [
    "#clf3=DecisionTreeClassifier(max_depth = 6, max_leaf_nodes=10)  ##shows the optimal decision tree\n",
    "#clf3=classifier.fit(X_train,y_train)\n",
    "#clf3.score(X_test, y_test)"
   ]
  },
  {
   "cell_type": "code",
   "execution_count": null,
   "metadata": {},
   "outputs": [],
   "source": [
    "#dot_data = StringIO()  \n",
    "#export_graphviz(clf3, out_file=dot_data, feature_names=loan_names, filled=True,rounded=True)\n",
    "\n",
    "#graph = pydot.graph_from_dot_data(dot_data.getvalue())  \n",
    "#Image(graph[0].create_png()) "
   ]
  },
  {
   "cell_type": "code",
   "execution_count": null,
   "metadata": {},
   "outputs": [],
   "source": [
    "#df_loanpred3 = clf3.predict(X_test)\n",
    "#print(\"Confusion Matrix\")\n",
    "#print(confusion_matrix(y_test, df_loanpred3))\n",
    "#print(\"\")\n",
    "#print(\"classification Report\")\n",
    "#print(classification_report(y_test, df_loanpred3))"
   ]
  },
  {
   "cell_type": "code",
   "execution_count": null,
   "metadata": {},
   "outputs": [],
   "source": [
    "##looks at the most important features within the model\n",
    "\n",
    "#dt_fi = pd.DataFrame(classifier.feature_importances_)  "
   ]
  },
  {
   "cell_type": "code",
   "execution_count": null,
   "metadata": {},
   "outputs": [],
   "source": [
    "#names = pd.DataFrame(list(X.columns))\n",
    "#df_feat_imp = pd.concat([dt_fi, names], axis = 1)"
   ]
  },
  {
   "cell_type": "code",
   "execution_count": null,
   "metadata": {},
   "outputs": [],
   "source": [
    "#df_feat_imp.columns = ['Importance', 'Features']\n",
    "#df_feat_imp.sort_values('Importance', ascending = False)"
   ]
  },
  {
   "cell_type": "markdown",
   "metadata": {},
   "source": [
    "### Random Forest\n",
    "![Ensemble-Algorithms.png](images/Ensemble-Algorithms.png)"
   ]
  },
  {
   "cell_type": "code",
   "execution_count": null,
   "metadata": {},
   "outputs": [],
   "source": [
    "#from sklearn.ensemble import RandomForestClassifier"
   ]
  },
  {
   "cell_type": "code",
   "execution_count": null,
   "metadata": {},
   "outputs": [],
   "source": [
    "#rf = RandomForestClassifier(n_estimators = 90, max_depth = 10)\n",
    "#rf = rf.fit(X_train, y_train)\n",
    "#score = rf.score(X_test, y_test)\n",
    "#print(score)\n",
    "#rf_pred = rf.predict(X_test)\n",
    "#print(classification_report(y_test, rf_pred))"
   ]
  },
  {
   "cell_type": "code",
   "execution_count": null,
   "metadata": {},
   "outputs": [],
   "source": [
    "#print(confusion_matrix(y_test, rf_pred))"
   ]
  },
  {
   "cell_type": "code",
   "execution_count": null,
   "metadata": {},
   "outputs": [],
   "source": [
    "##using the scaled data \n",
    "\n",
    "#rf = RandomForestClassifier(n_estimators = 90, max_depth = 10)\n",
    "#rf = rf.fit(X_train_sc, y_train)\n",
    "#score = rf.score(X_test_sc, y_test)\n",
    "#print(score)\n",
    "#rf_pred1 = rf.predict(X_test_sc)\n",
    "#print(classification_report(y_test, rf_pred1))"
   ]
  },
  {
   "cell_type": "code",
   "execution_count": null,
   "metadata": {},
   "outputs": [],
   "source": [
    "#print(confusion_matrix(y_test, rf_pred1))"
   ]
  },
  {
   "cell_type": "code",
   "execution_count": null,
   "metadata": {},
   "outputs": [],
   "source": [
    "#fi = pd.DataFrame(rf.feature_importances_)"
   ]
  },
  {
   "cell_type": "code",
   "execution_count": null,
   "metadata": {},
   "outputs": [],
   "source": [
    "#columns = pd.DataFrame(list(X.columns))"
   ]
  },
  {
   "cell_type": "code",
   "execution_count": null,
   "metadata": {},
   "outputs": [],
   "source": [
    "#features = pd.concat([columns, fi], axis = 1)\n",
    "#features.columns = ['Feature', 'Importance']"
   ]
  },
  {
   "cell_type": "code",
   "execution_count": null,
   "metadata": {},
   "outputs": [],
   "source": [
    "#features.sort_values(\"Importance\", ascending = False)"
   ]
  },
  {
   "cell_type": "code",
   "execution_count": null,
   "metadata": {},
   "outputs": [],
   "source": []
  },
  {
   "cell_type": "markdown",
   "metadata": {},
   "source": [
    "# Using Grid Search to find the optimal model configuration"
   ]
  },
  {
   "cell_type": "code",
   "execution_count": null,
   "metadata": {},
   "outputs": [],
   "source": [
    "#from sklearn.model_selection import GridSearchCV\n",
    "#from sklearn.pipeline import Pipeline"
   ]
  },
  {
   "cell_type": "code",
   "execution_count": null,
   "metadata": {},
   "outputs": [],
   "source": [
    "## Create a pipeline\n",
    "#pipe = Pipeline([('classifier', RandomForestClassifier())])\n",
    "\n",
    "## Create space of candidate learning algorithms and their hyperparameters for Logistic and Randon Forest\n",
    "#search_space = [{'classifier': [LogisticRegression()],\n",
    "#                 'classifier__penalty': ['l1', 'l2'],\n",
    "#                 'classifier__C': np.logspace(0, 4, 10)},\n",
    "#                {'classifier': [RandomForestClassifier()],\n",
    "#                 'classifier__n_estimators': [10, 100, 1000],\n",
    "#                 'classifier__max_features': [1, 2, 3]}]"
   ]
  },
  {
   "cell_type": "code",
   "execution_count": null,
   "metadata": {},
   "outputs": [],
   "source": [
    "## Create grid search \n",
    "#clf_best = GridSearchCV(pipe, search_space, cv=5, verbose=0)"
   ]
  },
  {
   "cell_type": "code",
   "execution_count": null,
   "metadata": {},
   "outputs": [],
   "source": [
    "## Fit grid search\n",
    "#best_model = clf_best.fit(X_train, y_train)"
   ]
  },
  {
   "cell_type": "code",
   "execution_count": null,
   "metadata": {},
   "outputs": [],
   "source": [
    "## View best model\n",
    "#best_model.best_estimator_.get_params()['classifier']"
   ]
  },
  {
   "cell_type": "code",
   "execution_count": null,
   "metadata": {},
   "outputs": [],
   "source": [
    "#best_model.predict(X_test)"
   ]
  },
  {
   "cell_type": "code",
   "execution_count": null,
   "metadata": {},
   "outputs": [],
   "source": [
    "#score = best_model.score(X_test, y_test)\n",
    "#print(\"Accuracy Score\")\n",
    "#print(score)\n",
    "#best_model_pred = best_model.predict(X_test)\n",
    "#print(\"\")\n",
    "#print(\"Confusion Matrix\")\n",
    "#print(confusion_matrix(y_test, best_model_pred))\n",
    "#print(\"\")\n",
    "#print(\"Confusion Matrix\")\n",
    "#print(classification_report(y_test, best_model_pred))"
   ]
  },
  {
   "cell_type": "markdown",
   "metadata": {},
   "source": [
    "## Datasets for Regression\n",
    "![Regression-Algorithms.png](images/Regression-Algorithms.png)\n",
    "\n",
    "### X will consist of all features and y must be a numerical target variable"
   ]
  },
  {
   "cell_type": "markdown",
   "metadata": {},
   "source": [
    "### Scikit Simple Regression\n",
    "using annual_inc as predictor"
   ]
  },
  {
   "cell_type": "code",
   "execution_count": null,
   "metadata": {},
   "outputs": [],
   "source": [
    "#X = df_data.drop(['targetvariable'], axis =1)\n",
    "#X.info()"
   ]
  },
  {
   "cell_type": "code",
   "execution_count": null,
   "metadata": {},
   "outputs": [],
   "source": [
    "#y = df_data_reg['targetvariable']"
   ]
  },
  {
   "cell_type": "code",
   "execution_count": null,
   "metadata": {},
   "outputs": [],
   "source": [
    "#y"
   ]
  },
  {
   "cell_type": "code",
   "execution_count": null,
   "metadata": {},
   "outputs": [],
   "source": [
    "#y.values.reshape(-1, 1)"
   ]
  },
  {
   "cell_type": "code",
   "execution_count": null,
   "metadata": {},
   "outputs": [],
   "source": [
    "#from sklearn import datasets, linear_model\n",
    "#from sklearn.metrics import mean_squared_error, explained_variance_score, r2_score"
   ]
  },
  {
   "cell_type": "code",
   "execution_count": null,
   "metadata": {},
   "outputs": [],
   "source": [
    "#reg = linear_model.LinearRegression()\n",
    "#feature1 = X[['feature1']]"
   ]
  },
  {
   "cell_type": "code",
   "execution_count": null,
   "metadata": {},
   "outputs": [],
   "source": [
    "#reg.fit(feature1, y)"
   ]
  },
  {
   "cell_type": "code",
   "execution_count": null,
   "metadata": {},
   "outputs": [],
   "source": [
    "#predictions = reg.predict(feature1)"
   ]
  },
  {
   "cell_type": "code",
   "execution_count": null,
   "metadata": {},
   "outputs": [],
   "source": [
    "#df_predictions = pd.DataFrame(predictions)"
   ]
  },
  {
   "cell_type": "code",
   "execution_count": null,
   "metadata": {},
   "outputs": [],
   "source": [
    "#reg.score(feature1, y)"
   ]
  },
  {
   "cell_type": "markdown",
   "metadata": {},
   "source": [
    "### Correlation Matrix"
   ]
  },
  {
   "cell_type": "code",
   "execution_count": null,
   "metadata": {},
   "outputs": [],
   "source": [
    "#colormap = plt.cm.viridis\n",
    "#plt.figure(figsize=(14,12))\n",
    "#plt.title('Pearson Correlation of Features', y=1.05, size=15)\n",
    "#sns.heatmap(df_data.astype(float).corr(),linewidths=0.1, vmax=1.0, square=True, cmap=colormap, linecolor='white', annot=True)"
   ]
  },
  {
   "cell_type": "markdown",
   "metadata": {
    "collapsed": true
   },
   "source": [
    "## Lasso Regression\n",
    "\n",
    "### find the most significant features "
   ]
  },
  {
   "cell_type": "code",
   "execution_count": null,
   "metadata": {},
   "outputs": [],
   "source": [
    "#from sklearn.linear_model import Lasso"
   ]
  },
  {
   "cell_type": "code",
   "execution_count": null,
   "metadata": {},
   "outputs": [],
   "source": [
    "#X_train, X_test, y_train, y_test = train_test_split(X, y, test_size = 0.3, random_state = 42)"
   ]
  },
  {
   "cell_type": "code",
   "execution_count": null,
   "metadata": {},
   "outputs": [],
   "source": [
    "#scaler = StandardScaler()\n",
    "\n",
    "#X_train_sc = scaler.fit_transform(X_train)\n",
    "#X_train_sc = pd.DataFrame(X_train_sc, columns=X_train.columns)\n",
    "\n",
    "\n",
    "#X_test_sc = scaler.fit_transform(X_test)\n",
    "#X_test_sc = pd.DataFrame(X_test_sc, columns=X_test.columns)"
   ]
  },
  {
   "cell_type": "markdown",
   "metadata": {},
   "source": [
    "### Fine tune the model to find optimal alpha value for Lasso"
   ]
  },
  {
   "cell_type": "code",
   "execution_count": null,
   "metadata": {},
   "outputs": [],
   "source": [
    "#alphas = [0.1, 0.5, 1, 5, 10, 25, 50, 100]\n",
    "#scores = []\n",
    "\n",
    "#for a in alphas:\n",
    "#    lasso = Lasso(alpha = a)\n",
    "#    lasso.fit(X_train_sc, y_train)\n",
    "#    scores.append(lasso.score(X_test_sc, y_test))\n",
    "#    print(\"iteration {} done\".format(a))\n",
    "\n",
    "\n",
    "#plt.plot(alphas, scores, '-o')\n",
    "#plt.xlabel('alpha, a')\n",
    "#plt.ylabel('scores')\n",
    "#plt.xticks(alphas)\n",
    "#plt.show()"
   ]
  },
  {
   "cell_type": "code",
   "execution_count": null,
   "metadata": {},
   "outputs": [],
   "source": [
    "#lasso = Lasso(alpha=10.0)  ##use 10.0 if that is considered the best option, replace 10.0 with a different number if needed"
   ]
  },
  {
   "cell_type": "code",
   "execution_count": null,
   "metadata": {},
   "outputs": [],
   "source": [
    "#lasso.fit(X_train_sc, y_train)"
   ]
  },
  {
   "cell_type": "code",
   "execution_count": null,
   "metadata": {},
   "outputs": [],
   "source": [
    "#lasso_pred = lasso.predict(X_train_sc)"
   ]
  },
  {
   "cell_type": "code",
   "execution_count": null,
   "metadata": {},
   "outputs": [],
   "source": [
    "#lasso.score(X_test_sc, y_test)"
   ]
  },
  {
   "cell_type": "code",
   "execution_count": null,
   "metadata": {},
   "outputs": [],
   "source": [
    "#lasso.coef_"
   ]
  },
  {
   "cell_type": "code",
   "execution_count": null,
   "metadata": {},
   "outputs": [],
   "source": [
    "#df_lasso = pd.DataFrame(lasso.coef_)"
   ]
  },
  {
   "cell_type": "code",
   "execution_count": null,
   "metadata": {},
   "outputs": [],
   "source": [
    "#names = pd.DataFrame(list(X.columns))"
   ]
  },
  {
   "cell_type": "code",
   "execution_count": null,
   "metadata": {},
   "outputs": [],
   "source": [
    "#df_lasso = pd.concat([df_lasso, names], axis = 1)"
   ]
  },
  {
   "cell_type": "code",
   "execution_count": null,
   "metadata": {},
   "outputs": [],
   "source": [
    "#df_lasso.columns = ['Coefficient', 'Feature']\n",
    "#df_lasso"
   ]
  },
  {
   "cell_type": "markdown",
   "metadata": {},
   "source": [
    "## Ridge"
   ]
  },
  {
   "cell_type": "markdown",
   "metadata": {},
   "source": [
    "### Import needed libraries"
   ]
  },
  {
   "cell_type": "code",
   "execution_count": null,
   "metadata": {},
   "outputs": [],
   "source": [
    "#from sklearn.linear_model import Ridge"
   ]
  },
  {
   "cell_type": "markdown",
   "metadata": {},
   "source": [
    "### Fine tune the model to find optimal alpha value"
   ]
  },
  {
   "cell_type": "code",
   "execution_count": null,
   "metadata": {},
   "outputs": [],
   "source": [
    "#alphas = [1, 5, 10, 25, 50, 100, 150, 200, 300, 400, 500]\n",
    "#scores = []\n",
    "\n",
    "#for a in alphas:\n",
    "#    ridge = Ridge(alpha = a)\n",
    "#    ridge.fit(X_train_sc, y_train)\n",
    "#    scores.append(ridge.score(X_test_sc, y_test))\n",
    "#    print(\"iteration {} done\".format(a))\n",
    "\n",
    "\n",
    "#plt.plot(alphas, scores, '-o')\n",
    "#plt.xlabel('alpha, a')\n",
    "#plt.ylabel('scores')\n",
    "#plt.xticks(alphas)\n",
    "#plt.show()"
   ]
  },
  {
   "cell_type": "code",
   "execution_count": null,
   "metadata": {},
   "outputs": [],
   "source": [
    "#ridge = Ridge(alpha=150) ##use 150 if that is considered the best option, replace 10.0 with a different number if needed"
   ]
  },
  {
   "cell_type": "code",
   "execution_count": null,
   "metadata": {},
   "outputs": [],
   "source": [
    "#ridge.fit(X_train_sc, y_train)"
   ]
  },
  {
   "cell_type": "code",
   "execution_count": null,
   "metadata": {},
   "outputs": [],
   "source": [
    "#ridge_preds = ridge.predict(X_test_sc)"
   ]
  },
  {
   "cell_type": "code",
   "execution_count": null,
   "metadata": {},
   "outputs": [],
   "source": [
    "#ridge.score(X_test_sc, y_test)"
   ]
  },
  {
   "cell_type": "code",
   "execution_count": null,
   "metadata": {},
   "outputs": [],
   "source": [
    "#df_ridge = pd.DataFrame(ridge.coef_)\n",
    "\n",
    "#names = pd.DataFrame(list(X.columns))\n",
    "\n",
    "#df_ridge = pd.concat([df_ridge, names], axis = 1)\n",
    "\n",
    "#df_ridge.columns = ['Coefficient', 'Feature']\n",
    "#df_ridge"
   ]
  }
 ],
 "metadata": {
  "kernelspec": {
   "display_name": "Python 3",
   "language": "python",
   "name": "python3"
  },
  "language_info": {
   "codemirror_mode": {
    "name": "ipython",
    "version": 3
   },
   "file_extension": ".py",
   "mimetype": "text/x-python",
   "name": "python",
   "nbconvert_exporter": "python",
   "pygments_lexer": "ipython3",
   "version": "3.6.5"
  }
 },
 "nbformat": 4,
 "nbformat_minor": 2
}
